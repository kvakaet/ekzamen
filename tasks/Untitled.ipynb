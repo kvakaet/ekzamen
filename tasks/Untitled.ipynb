{
 "cells": [
  {
   "cell_type": "markdown",
   "id": "ff0e15b7",
   "metadata": {},
   "source": [
    "# Задача повышенного уровня"
   ]
  },
  {
   "cell_type": "markdown",
   "id": "876e4bd2",
   "metadata": {},
   "source": [
    "решить задачу с помощью пакета numpy без использования условного оператора if, а также операторы циклов while и for. коэффициенты системы линейных уравнений заданы в виде прямоугольной матрицы. С помощью допустимых преобразований привести систему к треугольному виду. Найти количество строк, среднее арифметическое элементовкоторых меньше заданной величины."
   ]
  },
  {
   "cell_type": "code",
   "execution_count": 8,
   "id": "4fdcd677",
   "metadata": {},
   "outputs": [
    {
     "name": "stdout",
     "output_type": "stream",
     "text": [
      "введите величину:6\n",
      "Количество строк, среднее арифметическое элементов которых меньше 6: 2\n"
     ]
    }
   ],
   "source": [
    "import numpy as np\n",
    "\n",
    "A = np.array([[1, 2, 3],\n",
    "              [4, 5, 6],\n",
    "              [7, 8, 9]])\n",
    "\n",
    "n = A.shape[0]\n",
    "k = A.shape[1]\n",
    "\n",
    "indices = np.triu_indices(n, 1)\n",
    "\n",
    "A[indices] = 0\n",
    "\n",
    "num = int(input('введите величину:'))\n",
    "row_means = np.mean(A, axis=1)\n",
    "count = np.sum(row_means < num)\n",
    "\n",
    "print(\"Количество строк, среднее арифметическое элементов которых меньше {}: {}\".format(num, count))\n"
   ]
  },
  {
   "cell_type": "code",
   "execution_count": null,
   "id": "7813e233",
   "metadata": {},
   "outputs": [],
   "source": []
  },
  {
   "cell_type": "code",
   "execution_count": null,
   "id": "41c69e77",
   "metadata": {},
   "outputs": [],
   "source": []
  }
 ],
 "metadata": {
  "kernelspec": {
   "display_name": "Python 3 (ipykernel)",
   "language": "python",
   "name": "python3"
  },
  "language_info": {
   "codemirror_mode": {
    "name": "ipython",
    "version": 3
   },
   "file_extension": ".py",
   "mimetype": "text/x-python",
   "name": "python",
   "nbconvert_exporter": "python",
   "pygments_lexer": "ipython3",
   "version": "3.9.13"
  }
 },
 "nbformat": 4,
 "nbformat_minor": 5
}
